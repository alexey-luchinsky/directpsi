{
 "cells": [
  {
   "cell_type": "code",
   "execution_count": 1,
   "metadata": {
    "collapsed": false
   },
   "outputs": [],
   "source": [
    "import pandas as pd;\n",
    "%matplotlib inline\n",
    "import glob;\n",
    "import numpy as np\n",
    "import re;\n",
    "import matplotlib.pyplot as plt"
   ]
  },
  {
   "cell_type": "code",
   "execution_count": 2,
   "metadata": {
    "collapsed": true
   },
   "outputs": [],
   "source": [
    "fig_path='../../../TeX/Rus/figures/'"
   ]
  },
  {
   "cell_type": "code",
   "execution_count": 3,
   "metadata": {
    "collapsed": false
   },
   "outputs": [
    {
     "data": {
      "text/plain": [
       "<matplotlib.text.Text at 0x1123ebc50>"
      ]
     },
     "execution_count": 3,
     "metadata": {},
     "output_type": "execute_result"
    },
    {
     "data": {
      "image/png": "[encoded data removed]",
      "text/plain": [
       "<matplotlib.figure.Figure at 0x1042262b0>"
      ]
     },
     "metadata": {},
     "output_type": "display_data"
    }
   ],
   "source": [
    "# Q2 histograms\n",
    "hQ2_1=np.loadtxt('../build/partonic/hQ2_1.hst')\n",
    "hQ2_15=np.loadtxt('../build/partonic/hQ2_15.hst')\n",
    "scale1=1e-4;\n",
    "scale15=-1e-4;\n",
    "plt.errorbar(hQ2_1[:,0],scale1*hQ2_1[:,1],fmt='o',label=r'$\\{-1, -1\\}\\to \\{0 -1\\}$',\n",
    "             xerr=hQ2_1[:,2],yerr=scale1*hQ2_1[:,3]);\n",
    "plt.errorbar(hQ2_15[:,0],scale15*hQ2_15[:,1],fmt='s',label=r'$\\{1 -1\\}\\to \\{2 -1\\}$',\n",
    "             xerr=hQ2_15[:,2],yerr=scale15*hQ2_15[:,3])\n",
    "plt.legend(loc='best')\n",
    "plt.xlabel(r'$q^2, GeV^2$')\n",
    "plt.ylabel(r'$\\mathcal{M}$')\n",
    "#plt.yscale('log')\n",
    "#plt.savefig(fig_path+'hq2.pdf')"
   ]
  },
  {
   "cell_type": "code",
   "execution_count": 4,
   "metadata": {
    "collapsed": true
   },
   "outputs": [],
   "source": [
    "def plot_with_rarios(dat1,dat2, label1=r'$\\Delta=0$', label2=r'$\\Delta=0.4$ MeV'):\n",
    "    f,(ax1,ax2) = plt.subplots(2,sharex=True, sharey=False)\n",
    "    ax1.plot(dat1[:,0],dat1[:,1],'--',label=label1)\n",
    "    ax1.plot(dat2[:,0],dat2[:,1],'k-',label=label2)\n",
    "    ax1.legend(loc='best')\n",
    "    #ax1.set_yticks(list(np.linspace(0,600,5)))\n",
    "    #\n",
    "    ax2.plot(dat1[:,0],dat2[:,1]/dat1[:,1])\n",
    "    ax2.set_ylim([0,2])\n",
    "    ax2.set_yticks([0,0.5,1,1.5])\n",
    "    ax2.set_ylabel('ratio')\n",
    "    ax2.grid()\n",
    "    #\n",
    "    f.subplots_adjust(hspace=0.03)\n",
    "    return f,(ax1,ax2)\n"
   ]
  },
  {
   "cell_type": "code",
   "execution_count": 5,
   "metadata": {
    "collapsed": false
   },
   "outputs": [
    {
     "data": {
      "image/png": "[encoded data removed]",
      "text/plain": [
       "<matplotlib.figure.Figure at 0x114f49ac8>"
      ]
     },
     "metadata": {},
     "output_type": "display_data"
    }
   ],
   "source": [
    "hEn_001=np.loadtxt(\"../build/partonic/hEn_001.hst\")\n",
    "hEn_04=np.loadtxt(\"../build/partonic/hEn_04.hst\")\n",
    "f, (ax1, ax2)=plot_with_rarios(hEn_001,hEn_04)\n",
    "ax1.set_yticks(list(np.linspace(0,600,5)))\n",
    "ax1.set_ylabel(r'$\\hat\\sigma$, pb')\n",
    "ax2.set_xlabel(r'$\\sqrt{\\hat{s}}, GeV$')\n",
    "plt.savefig(fig_path+'partonic_en.pdf')"
   ]
  },
  {
   "cell_type": "code",
   "execution_count": 6,
   "metadata": {
    "collapsed": false
   },
   "outputs": [],
   "source": [
    "def parse_fileName(fileName):\n",
    "    name=fileName.split(\"/\")[-1]\n",
    "    fields=name.split(\"_\")\n",
    "    var=fields[0]\n",
    "    ecm=float(fields[1][1::])\n",
    "    delta=float(fields[2][1::])\n",
    "    alpha=float(fields[3][1::])\n",
    "    pdfSet=fields[4][0:-4]\n",
    "    data=np.loadtxt(fileName)\n",
    "    return {'var': var, 'ecm': ecm, 'delta': delta,'alpha': alpha,'pdf':pdfSet,'data':data}\n",
    "    \n",
    "    "
   ]
  },
  {
   "cell_type": "code",
   "execution_count": 7,
   "metadata": {
    "collapsed": true
   },
   "outputs": [],
   "source": [
    "def create_data():\n",
    "    return pd.DataFrame(columns=['var','ecm','delta','alpha','pdf','data'])"
   ]
  },
  {
   "cell_type": "code",
   "execution_count": 8,
   "metadata": {
    "collapsed": false
   },
   "outputs": [],
   "source": [
    "def load_data(data, fileName):\n",
    "    row=len(data.index)\n",
    "    di=parse_fileName(fileName)\n",
    "    for key in di.keys():\n",
    "        data.loc[row,key]=di[key] "
   ]
  },
  {
   "cell_type": "code",
   "execution_count": 9,
   "metadata": {
    "collapsed": true
   },
   "outputs": [],
   "source": [
    "def select_data(data, di, othdi={}):\n",
    "    di.update(othdi)\n",
    "    return data[(data[list(di)] == pd.Series(di)).all(axis=1)]\n"
   ]
  },
  {
   "cell_type": "code",
   "execution_count": 10,
   "metadata": {
    "collapsed": true
   },
   "outputs": [],
   "source": [
    "def load_all_data(data, path):\n",
    "    for file in glob.glob(path+'*.hst'):\n",
    "        load_data(data,file)\n",
    "    return data"
   ]
  },
  {
   "cell_type": "code",
   "execution_count": 11,
   "metadata": {
    "collapsed": true
   },
   "outputs": [],
   "source": [
    "def get_xy_data(data,crit):\n",
    "    return list(select_data(data,crit)['data'])[0]"
   ]
  },
  {
   "cell_type": "code",
   "execution_count": 12,
   "metadata": {
    "collapsed": false
   },
   "outputs": [
    {
     "data": {
      "text/html": [
       "<div>\n",
       "<table border=\"1\" class=\"dataframe\">\n",
       "  <thead>\n",
       "    <tr style=\"text-align: right;\">\n",
       "      <th></th>\n",
       "      <th>var</th>\n",
       "      <th>ecm</th>\n",
       "      <th>delta</th>\n",
       "      <th>alpha</th>\n",
       "      <th>pdf</th>\n",
       "      <th>data</th>\n",
       "    </tr>\n",
       "  </thead>\n",
       "  <tbody>\n",
       "    <tr>\n",
       "      <th>0</th>\n",
       "      <td>m</td>\n",
       "      <td>11</td>\n",
       "      <td>0.01</td>\n",
       "      <td>3</td>\n",
       "      <td>CT10</td>\n",
       "      <td>[[3.149072, 0.3048123, 0.0004834373], [3.24399...</td>\n",
       "    </tr>\n",
       "    <tr>\n",
       "      <th>1</th>\n",
       "      <td>m</td>\n",
       "      <td>11</td>\n",
       "      <td>0.4</td>\n",
       "      <td>3</td>\n",
       "      <td>CT10</td>\n",
       "      <td>[[3.149072, 63.57805, 0.6185213], [3.243992, 1...</td>\n",
       "    </tr>\n",
       "    <tr>\n",
       "      <th>2</th>\n",
       "      <td>pT2</td>\n",
       "      <td>11</td>\n",
       "      <td>0.01</td>\n",
       "      <td>3</td>\n",
       "      <td>CT10</td>\n",
       "      <td>[[0.1265795, 2.229284, 0.002011922], [0.379738...</td>\n",
       "    </tr>\n",
       "    <tr>\n",
       "      <th>3</th>\n",
       "      <td>pT2</td>\n",
       "      <td>11</td>\n",
       "      <td>0.4</td>\n",
       "      <td>3</td>\n",
       "      <td>CT10</td>\n",
       "      <td>[[0.1265795, 26.93373, 0.231925], [0.3797386, ...</td>\n",
       "    </tr>\n",
       "    <tr>\n",
       "      <th>4</th>\n",
       "      <td>xF</td>\n",
       "      <td>11</td>\n",
       "      <td>0.01</td>\n",
       "      <td>3</td>\n",
       "      <td>CT10</td>\n",
       "      <td>[[-1.9, 0.01948345, 8.952283e-05], [-1.7, 0.04...</td>\n",
       "    </tr>\n",
       "    <tr>\n",
       "      <th>5</th>\n",
       "      <td>xF</td>\n",
       "      <td>11</td>\n",
       "      <td>0.4</td>\n",
       "      <td>3</td>\n",
       "      <td>CT10</td>\n",
       "      <td>[[-1.9, 0.5286899, 0.02453728], [-1.7, 0.79953...</td>\n",
       "    </tr>\n",
       "    <tr>\n",
       "      <th>6</th>\n",
       "      <td>yPsi</td>\n",
       "      <td>11</td>\n",
       "      <td>0.01</td>\n",
       "      <td>3</td>\n",
       "      <td>CT10</td>\n",
       "      <td>[[-0.95, 0.0505553, 0.0002083934], [-0.85, 0.1...</td>\n",
       "    </tr>\n",
       "    <tr>\n",
       "      <th>7</th>\n",
       "      <td>yPsi</td>\n",
       "      <td>11</td>\n",
       "      <td>0.4</td>\n",
       "      <td>3</td>\n",
       "      <td>CT10</td>\n",
       "      <td>[[-0.95, 0.7677037, 0.02970993], [-0.85, 1.558...</td>\n",
       "    </tr>\n",
       "  </tbody>\n",
       "</table>\n",
       "</div>"
      ],
      "text/plain": [
       "    var ecm delta alpha   pdf  \\\n",
       "0     m  11  0.01     3  CT10   \n",
       "1     m  11   0.4     3  CT10   \n",
       "2   pT2  11  0.01     3  CT10   \n",
       "3   pT2  11   0.4     3  CT10   \n",
       "4    xF  11  0.01     3  CT10   \n",
       "5    xF  11   0.4     3  CT10   \n",
       "6  yPsi  11  0.01     3  CT10   \n",
       "7  yPsi  11   0.4     3  CT10   \n",
       "\n",
       "                                                data  \n",
       "0  [[3.149072, 0.3048123, 0.0004834373], [3.24399...  \n",
       "1  [[3.149072, 63.57805, 0.6185213], [3.243992, 1...  \n",
       "2  [[0.1265795, 2.229284, 0.002011922], [0.379738...  \n",
       "3  [[0.1265795, 26.93373, 0.231925], [0.3797386, ...  \n",
       "4  [[-1.9, 0.01948345, 8.952283e-05], [-1.7, 0.04...  \n",
       "5  [[-1.9, 0.5286899, 0.02453728], [-1.7, 0.79953...  \n",
       "6  [[-0.95, 0.0505553, 0.0002083934], [-0.85, 0.1...  \n",
       "7  [[-0.95, 0.7677037, 0.02970993], [-0.85, 1.558...  "
      ]
     },
     "execution_count": 12,
     "metadata": {},
     "output_type": "execute_result"
    }
   ],
   "source": [
    "data=create_data();\n",
    "load_all_data(data,'../build/A/')\n",
    "data"
   ]
  },
  {
   "cell_type": "code",
   "execution_count": 69,
   "metadata": {
    "collapsed": false
   },
   "outputs": [
    {
     "data": {
      "text/html": [
       "<div>\n",
       "<table border=\"1\" class=\"dataframe\">\n",
       "  <thead>\n",
       "    <tr style=\"text-align: right;\">\n",
       "      <th></th>\n",
       "      <th>var</th>\n",
       "      <th>ecm</th>\n",
       "      <th>delta</th>\n",
       "      <th>alpha</th>\n",
       "      <th>pdf</th>\n",
       "      <th>data</th>\n",
       "    </tr>\n",
       "  </thead>\n",
       "  <tbody>\n",
       "    <tr>\n",
       "      <th>0</th>\n",
       "      <td>m</td>\n",
       "      <td>70</td>\n",
       "      <td>0.01</td>\n",
       "      <td>3</td>\n",
       "      <td>CT10</td>\n",
       "      <td>[[3.200115, 0.6450843, 0.02141729], [3.201015,...</td>\n",
       "    </tr>\n",
       "    <tr>\n",
       "      <th>1</th>\n",
       "      <td>m</td>\n",
       "      <td>70</td>\n",
       "      <td>0.4</td>\n",
       "      <td>3</td>\n",
       "      <td>CT10</td>\n",
       "      <td>[[3.200115, 2.203645, 0.07300612], [3.201015, ...</td>\n",
       "    </tr>\n",
       "    <tr>\n",
       "      <th>2</th>\n",
       "      <td>pT2</td>\n",
       "      <td>70</td>\n",
       "      <td>0.01</td>\n",
       "      <td>3</td>\n",
       "      <td>CT10</td>\n",
       "      <td>[[0.1003065, 2.641923, 0.05580219], [0.1027565...</td>\n",
       "    </tr>\n",
       "    <tr>\n",
       "      <th>3</th>\n",
       "      <td>pT2</td>\n",
       "      <td>70</td>\n",
       "      <td>0.4</td>\n",
       "      <td>3</td>\n",
       "      <td>CT10</td>\n",
       "      <td>[[0.1003065, 3.284849, 0.06929343], [0.1027565...</td>\n",
       "    </tr>\n",
       "    <tr>\n",
       "      <th>4</th>\n",
       "      <td>xF</td>\n",
       "      <td>70</td>\n",
       "      <td>0.01</td>\n",
       "      <td>3</td>\n",
       "      <td>CT10</td>\n",
       "      <td>[[0.05, 0.5557871, 0.001916617], [0.15, 0.5497...</td>\n",
       "    </tr>\n",
       "    <tr>\n",
       "      <th>5</th>\n",
       "      <td>xF</td>\n",
       "      <td>70</td>\n",
       "      <td>0.4</td>\n",
       "      <td>3</td>\n",
       "      <td>CT10</td>\n",
       "      <td>[[0.05, 0.7278469, 0.002514925], [0.15, 0.7135...</td>\n",
       "    </tr>\n",
       "    <tr>\n",
       "      <th>6</th>\n",
       "      <td>yPsi</td>\n",
       "      <td>70</td>\n",
       "      <td>0.01</td>\n",
       "      <td>3</td>\n",
       "      <td>CT10</td>\n",
       "      <td>[[-0.95, 0.08431025, 0.0003564], [-0.85, 0.181...</td>\n",
       "    </tr>\n",
       "    <tr>\n",
       "      <th>7</th>\n",
       "      <td>yPsi</td>\n",
       "      <td>70</td>\n",
       "      <td>0.4</td>\n",
       "      <td>3</td>\n",
       "      <td>CT10</td>\n",
       "      <td>[[-0.95, 0.1226764, 0.0004923869], [-0.85, 0.2...</td>\n",
       "    </tr>\n",
       "  </tbody>\n",
       "</table>\n",
       "</div>"
      ],
      "text/plain": [
       "    var ecm delta alpha   pdf  \\\n",
       "0     m  70  0.01     3  CT10   \n",
       "1     m  70   0.4     3  CT10   \n",
       "2   pT2  70  0.01     3  CT10   \n",
       "3   pT2  70   0.4     3  CT10   \n",
       "4    xF  70  0.01     3  CT10   \n",
       "5    xF  70   0.4     3  CT10   \n",
       "6  yPsi  70  0.01     3  CT10   \n",
       "7  yPsi  70   0.4     3  CT10   \n",
       "\n",
       "                                                data  \n",
       "0  [[3.200115, 0.6450843, 0.02141729], [3.201015,...  \n",
       "1  [[3.200115, 2.203645, 0.07300612], [3.201015, ...  \n",
       "2  [[0.1003065, 2.641923, 0.05580219], [0.1027565...  \n",
       "3  [[0.1003065, 3.284849, 0.06929343], [0.1027565...  \n",
       "4  [[0.05, 0.5557871, 0.001916617], [0.15, 0.5497...  \n",
       "5  [[0.05, 0.7278469, 0.002514925], [0.15, 0.7135...  \n",
       "6  [[-0.95, 0.08431025, 0.0003564], [-0.85, 0.181...  \n",
       "7  [[-0.95, 0.1226764, 0.0004923869], [-0.85, 0.2...  "
      ]
     },
     "execution_count": 69,
     "metadata": {},
     "output_type": "execute_result"
    }
   ],
   "source": [
    "data=create_data()\n",
    "load_all_data(data,'../build/U70/')\n",
    "data"
   ]
  },
  {
   "cell_type": "code",
   "execution_count": 37,
   "metadata": {
    "collapsed": true
   },
   "outputs": [],
   "source": [
    "def get_x_label(var):\n",
    "    if var=='m':\n",
    "        return r'$m$, GeV'\n",
    "    elif var=='xF':\n",
    "        return r'$x_F$'\n",
    "    elif var=='pT2':\n",
    "        return r'$p_T^2,\\ \\mathrm{GeV^2}$'\n",
    "    elif var=='yPsi':\n",
    "        return r'$y_\\psi$'\n",
    "    else:\n",
    "        return '??'"
   ]
  },
  {
   "cell_type": "code",
   "execution_count": 38,
   "metadata": {
    "collapsed": true
   },
   "outputs": [],
   "source": [
    "def get_y_label(var):\n",
    "    if var=='m':\n",
    "        return r'$d\\sigma/dm$, pb/GeV'\n",
    "    elif var=='xF':\n",
    "        return r'$d\\sigma/dx_F$, pb'\n",
    "    elif var=='pT2':\n",
    "        return r'$d\\sigma/dp_T^2,\\ \\mathrm{pb/GeV^2}$'\n",
    "    elif var=='yPsi':\n",
    "        return r'$d\\sigma/dy_\\psi\\ \\mathrm{pb}$'\n",
    "    else:\n",
    "        return '???'"
   ]
  },
  {
   "cell_type": "code",
   "execution_count": 70,
   "metadata": {
    "collapsed": false
   },
   "outputs": [
    {
     "data": {
      "text/plain": [
       "<matplotlib.text.Text at 0x11ad65cc0>"
      ]
     },
     "execution_count": 70,
     "metadata": {},
     "output_type": "execute_result"
    },
    {
     "data": {
      "image/png": "[encoded data removed]",
      "text/plain": [
       "<matplotlib.figure.Figure at 0x11a8eed30>"
      ]
     },
     "metadata": {},
     "output_type": "display_data"
    }
   ],
   "source": [
    "var='m'\n",
    "ecm=70\n",
    "pdf='CT10'\n",
    "tab001=get_xy_data(data,{'var':var,'ecm':ecm,'pdf':pdf,'delta':0.01})\n",
    "tab04=get_xy_data(data,{'var':var,'ecm':ecm,'pdf':pdf,'delta':0.4})\n",
    "f,(ax1,ax2)=plot_with_rarios(tab001,tab04)\n",
    "ax1.set_ylabel(get_y_label(var))\n",
    "ax2.set_xlabel(get_x_label(var))\n",
    "ax1.set_yscale('log')\n",
    "plt.suptitle(r'$E_{beam}=%2.0f$ GeV'%ecm)"
   ]
  },
  {
   "cell_type": "code",
   "execution_count": 71,
   "metadata": {
    "collapsed": false
   },
   "outputs": [
    {
     "data": {
      "text/plain": [
       "<matplotlib.text.Text at 0x11b7ad518>"
      ]
     },
     "execution_count": 71,
     "metadata": {},
     "output_type": "execute_result"
    },
    {
     "data": {
      "image/png": "[encoded data removed]",
      "text/plain": [
       "<matplotlib.figure.Figure at 0x1199befd0>"
      ]
     },
     "metadata": {},
     "output_type": "display_data"
    }
   ],
   "source": [
    "var='xF'\n",
    "ecm=70\n",
    "pdf='CT10'\n",
    "tab001=get_xy_data(data,{'var':var,'ecm':ecm,'pdf':pdf,'delta':0.01})\n",
    "tab04=get_xy_data(data,{'var':var,'ecm':ecm,'pdf':pdf,'delta':0.4})\n",
    "f,(ax1,ax2)=plot_with_rarios(tab001,tab04)\n",
    "ax1.set_ylabel(get_y_label(var))\n",
    "ax2.set_xlabel(get_x_label(var))\n",
    "ax1.set_yscale('log')\n",
    "#ax2.set_ylim([0,50])\n",
    "#ax2.set_yticks([0,10,20,30,40])\n",
    "plt.suptitle(r'$\\sqrt{s}=%2.0f$ GeV'%ecm)"
   ]
  },
  {
   "cell_type": "code",
   "execution_count": 72,
   "metadata": {
    "collapsed": false
   },
   "outputs": [
    {
     "data": {
      "text/plain": [
       "<matplotlib.text.Text at 0x11b652be0>"
      ]
     },
     "execution_count": 72,
     "metadata": {},
     "output_type": "execute_result"
    },
    {
     "data": {
      "image/png": "[encoded data removed]",
      "text/plain": [
       "<matplotlib.figure.Figure at 0x11bac05f8>"
      ]
     },
     "metadata": {},
     "output_type": "display_data"
    }
   ],
   "source": [
    "var='pT2'\n",
    "ecm=70\n",
    "pdf='CT10'\n",
    "tab001=get_xy_data(data,{'var':var,'ecm':ecm,'pdf':pdf,'delta':0.01})\n",
    "tab04=get_xy_data(data,{'var':var,'ecm':ecm,'pdf':pdf,'delta':0.4})\n",
    "f,(ax1,ax2)=plot_with_rarios(tab001,tab04)\n",
    "ax1.set_ylabel(get_y_label(var))\n",
    "ax2.set_xlabel(get_x_label(var))\n",
    "ax1.set_yscale('log')\n",
    "plt.suptitle(r'$\\sqrt{s}=%2.0f$ GeV'%ecm)"
   ]
  },
  {
   "cell_type": "code",
   "execution_count": 73,
   "metadata": {
    "collapsed": false
   },
   "outputs": [
    {
     "data": {
      "text/plain": [
       "<matplotlib.text.Text at 0x11bc74ac8>"
      ]
     },
     "execution_count": 73,
     "metadata": {},
     "output_type": "execute_result"
    },
    {
     "data": {
      "image/png": "[encoded data removed]",
      "text/plain": [
       "<matplotlib.figure.Figure at 0x11a657048>"
      ]
     },
     "metadata": {},
     "output_type": "display_data"
    }
   ],
   "source": [
    "var='yPsi'\n",
    "ecm=70\n",
    "pdf='CT10'\n",
    "tab001=get_xy_data(data,{'var':var,'ecm':ecm,'pdf':pdf,'delta':0.01})\n",
    "tab04=get_xy_data(data,{'var':var,'ecm':ecm,'pdf':pdf,'delta':0.4})\n",
    "f,(ax1,ax2)=plot_with_rarios(tab001,tab04)\n",
    "ax1.set_ylabel(get_y_label(var))\n",
    "ax2.set_xlabel(get_x_label(var))\n",
    "#ax1.set_yscale('log')\n",
    "#ax2.set_ylim([0,15])\n",
    "#ax2.set_yticks([0,5,10])\n",
    "ax2.set_yscale('linear')\n",
    "plt.suptitle(r'$\\sqrt{s}=%2.0f$ GeV'%ecm)"
   ]
  },
  {
   "cell_type": "code",
   "execution_count": null,
   "metadata": {
    "collapsed": true
   },
   "outputs": [],
   "source": []
  }
 ],
 "metadata": {
  "kernelspec": {
   "display_name": "Python 3",
   "language": "python",
   "name": "python3"
  },
  "language_info": {
   "codemirror_mode": {
    "name": "ipython",
    "version": 3
   },
   "file_extension": ".py",
   "mimetype": "text/x-python",
   "name": "python",
   "nbconvert_exporter": "python",
   "pygments_lexer": "ipython3",
   "version": "3.5.1"
  }
 },
 "nbformat": 4,
 "nbformat_minor": 0
}
