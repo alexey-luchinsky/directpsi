{
 "cells": [
  {
   "cell_type": "code",
   "execution_count": 1,
   "metadata": {
    "collapsed": false
   },
   "outputs": [],
   "source": [
    "import pandas as pd;\n",
    "%matplotlib inline\n",
    "import glob;\n",
    "import numpy as np\n",
    "import re;\n",
    "import matplotlib.pyplot as plt"
   ]
  },
  {
   "cell_type": "code",
   "execution_count": 2,
   "metadata": {
    "collapsed": false
   },
   "outputs": [],
   "source": [
    "def parse_fileName(fileName):\n",
    "    name=fileName.split(\"/\")[-1]\n",
    "    fields=name.split(\"_\")\n",
    "    var=fields[0]\n",
    "    ecm=float(fields[1][1::])\n",
    "    delta=float(fields[2][1::])\n",
    "    alpha=float(fields[3][1::])\n",
    "    pdfSet=fields[4][0:-4]\n",
    "    data=np.loadtxt(fileName)\n",
    "    return {'var': var, 'ecm': ecm, 'delta': delta,'alpha': alpha,'pdf':pdfSet,'data':data}\n",
    "    \n",
    "    "
   ]
  },
  {
   "cell_type": "code",
   "execution_count": 3,
   "metadata": {
    "collapsed": true
   },
   "outputs": [],
   "source": [
    "def create_data():\n",
    "    return pd.DataFrame(columns=['var','ecm','delta','alpha','pdf','data'])"
   ]
  },
  {
   "cell_type": "code",
   "execution_count": 4,
   "metadata": {
    "collapsed": false
   },
   "outputs": [],
   "source": [
    "def load_data(data, fileName):\n",
    "    row=len(data.index)\n",
    "    di=parse_fileName(fileName)\n",
    "    for key in di.keys():\n",
    "        data.loc[row,key]=di[key] "
   ]
  },
  {
   "cell_type": "code",
   "execution_count": 5,
   "metadata": {
    "collapsed": true
   },
   "outputs": [],
   "source": [
    "def select_data(data, di, othdi={}):\n",
    "    di.update(othdi)\n",
    "    return data[(data[list(di)] == pd.Series(di)).all(axis=1)]\n"
   ]
  },
  {
   "cell_type": "code",
   "execution_count": 14,
   "metadata": {
    "collapsed": true
   },
   "outputs": [],
   "source": [
    "def load_all_data(path):\n",
    "    data=create_data()\n",
    "    for file in glob.glob(path+'*.hst'):\n",
    "        load_data(data,file)\n",
    "    return data"
   ]
  },
  {
   "cell_type": "code",
   "execution_count": 15,
   "metadata": {
    "collapsed": true
   },
   "outputs": [],
   "source": [
    "def get_xy_data(data,crit):\n",
    "    return list(select_data(data,crit)['data'])[0]"
   ]
  },
  {
   "cell_type": "code",
   "execution_count": 35,
   "metadata": {
    "collapsed": false
   },
   "outputs": [
    {
     "data": {
      "text/html": [
       "<div>\n",
       "<table border=\"1\" class=\"dataframe\">\n",
       "  <thead>\n",
       "    <tr style=\"text-align: right;\">\n",
       "      <th></th>\n",
       "      <th>var</th>\n",
       "      <th>ecm</th>\n",
       "      <th>delta</th>\n",
       "      <th>alpha</th>\n",
       "      <th>pdf</th>\n",
       "      <th>data</th>\n",
       "    </tr>\n",
       "  </thead>\n",
       "  <tbody>\n",
       "    <tr>\n",
       "      <th>0</th>\n",
       "      <td>m</td>\n",
       "      <td>11</td>\n",
       "      <td>0.01</td>\n",
       "      <td>3</td>\n",
       "      <td>CT10</td>\n",
       "      <td>[[3.149072, 0.3032531, 0.001522161], [3.243992...</td>\n",
       "    </tr>\n",
       "    <tr>\n",
       "      <th>1</th>\n",
       "      <td>m</td>\n",
       "      <td>11</td>\n",
       "      <td>0.1</td>\n",
       "      <td>3</td>\n",
       "      <td>CT10</td>\n",
       "      <td>[[3.149072, 0.3734967, 0.001721152], [3.243992...</td>\n",
       "    </tr>\n",
       "    <tr>\n",
       "      <th>2</th>\n",
       "      <td>m</td>\n",
       "      <td>11</td>\n",
       "      <td>0.2</td>\n",
       "      <td>3</td>\n",
       "      <td>CT10</td>\n",
       "      <td>[[3.149072, 0.804131, 0.004629133], [3.243992,...</td>\n",
       "    </tr>\n",
       "    <tr>\n",
       "      <th>3</th>\n",
       "      <td>m</td>\n",
       "      <td>11</td>\n",
       "      <td>0.4</td>\n",
       "      <td>3</td>\n",
       "      <td>CT10</td>\n",
       "      <td>[[3.149072, 64.49366, 1.989759], [3.243992, 1....</td>\n",
       "    </tr>\n",
       "    <tr>\n",
       "      <th>4</th>\n",
       "      <td>pT2</td>\n",
       "      <td>11</td>\n",
       "      <td>0.01</td>\n",
       "      <td>3</td>\n",
       "      <td>CT10</td>\n",
       "      <td>[[0.1265795, 2.220249, 0.006346562], [0.379738...</td>\n",
       "    </tr>\n",
       "    <tr>\n",
       "      <th>5</th>\n",
       "      <td>pT2</td>\n",
       "      <td>11</td>\n",
       "      <td>0.1</td>\n",
       "      <td>3</td>\n",
       "      <td>CT10</td>\n",
       "      <td>[[0.1265795, 2.291547, 0.006434], [0.3797386, ...</td>\n",
       "    </tr>\n",
       "    <tr>\n",
       "      <th>6</th>\n",
       "      <td>pT2</td>\n",
       "      <td>11</td>\n",
       "      <td>0.2</td>\n",
       "      <td>3</td>\n",
       "      <td>CT10</td>\n",
       "      <td>[[0.1265795, 2.594053, 0.006971906], [0.379738...</td>\n",
       "    </tr>\n",
       "    <tr>\n",
       "      <th>7</th>\n",
       "      <td>pT2</td>\n",
       "      <td>11</td>\n",
       "      <td>0.4</td>\n",
       "      <td>3</td>\n",
       "      <td>CT10</td>\n",
       "      <td>[[0.1265795, 27.26654, 0.7460919], [0.3797386,...</td>\n",
       "    </tr>\n",
       "    <tr>\n",
       "      <th>8</th>\n",
       "      <td>xF</td>\n",
       "      <td>11</td>\n",
       "      <td>0.01</td>\n",
       "      <td>3</td>\n",
       "      <td>CT10</td>\n",
       "      <td>[[-1.9, 0.01961791, 0.0002851338], [-1.7, 0.04...</td>\n",
       "    </tr>\n",
       "    <tr>\n",
       "      <th>9</th>\n",
       "      <td>xF</td>\n",
       "      <td>11</td>\n",
       "      <td>0.1</td>\n",
       "      <td>3</td>\n",
       "      <td>CT10</td>\n",
       "      <td>[[-1.9, 0.02020591, 0.0002866095], [-1.7, 0.04...</td>\n",
       "    </tr>\n",
       "    <tr>\n",
       "      <th>10</th>\n",
       "      <td>xF</td>\n",
       "      <td>11</td>\n",
       "      <td>0.2</td>\n",
       "      <td>3</td>\n",
       "      <td>CT10</td>\n",
       "      <td>[[-1.9, 0.02511905, 0.0003472953], [-1.7, 0.04...</td>\n",
       "    </tr>\n",
       "    <tr>\n",
       "      <th>11</th>\n",
       "      <td>xF</td>\n",
       "      <td>11</td>\n",
       "      <td>0.4</td>\n",
       "      <td>3</td>\n",
       "      <td>CT10</td>\n",
       "      <td>[[-1.9, 0.4977183, 0.07576802], [-1.7, 0.94079...</td>\n",
       "    </tr>\n",
       "    <tr>\n",
       "      <th>12</th>\n",
       "      <td>yPsi</td>\n",
       "      <td>11</td>\n",
       "      <td>0.01</td>\n",
       "      <td>3</td>\n",
       "      <td>CT10</td>\n",
       "      <td>[[-1.9, 0.0, 0.0], [-1.7, 0.0, 0.0], [-1.5, 0....</td>\n",
       "    </tr>\n",
       "    <tr>\n",
       "      <th>13</th>\n",
       "      <td>yPsi</td>\n",
       "      <td>11</td>\n",
       "      <td>0.1</td>\n",
       "      <td>3</td>\n",
       "      <td>CT10</td>\n",
       "      <td>[[-1.9, 0.0, 0.0], [-1.7, 0.0, 0.0], [-1.5, 0....</td>\n",
       "    </tr>\n",
       "    <tr>\n",
       "      <th>14</th>\n",
       "      <td>yPsi</td>\n",
       "      <td>11</td>\n",
       "      <td>0.2</td>\n",
       "      <td>3</td>\n",
       "      <td>CT10</td>\n",
       "      <td>[[-1.9, 0.0, 0.0], [-1.7, 0.0, 0.0], [-1.5, 0....</td>\n",
       "    </tr>\n",
       "    <tr>\n",
       "      <th>15</th>\n",
       "      <td>yPsi</td>\n",
       "      <td>11</td>\n",
       "      <td>0.4</td>\n",
       "      <td>3</td>\n",
       "      <td>CT10</td>\n",
       "      <td>[[-1.9, 0.0, 0.0], [-1.7, 0.0, 0.0], [-1.5, 0....</td>\n",
       "    </tr>\n",
       "  </tbody>\n",
       "</table>\n",
       "</div>"
      ],
      "text/plain": [
       "     var ecm delta alpha   pdf  \\\n",
       "0      m  11  0.01     3  CT10   \n",
       "1      m  11   0.1     3  CT10   \n",
       "2      m  11   0.2     3  CT10   \n",
       "3      m  11   0.4     3  CT10   \n",
       "4    pT2  11  0.01     3  CT10   \n",
       "5    pT2  11   0.1     3  CT10   \n",
       "6    pT2  11   0.2     3  CT10   \n",
       "7    pT2  11   0.4     3  CT10   \n",
       "8     xF  11  0.01     3  CT10   \n",
       "9     xF  11   0.1     3  CT10   \n",
       "10    xF  11   0.2     3  CT10   \n",
       "11    xF  11   0.4     3  CT10   \n",
       "12  yPsi  11  0.01     3  CT10   \n",
       "13  yPsi  11   0.1     3  CT10   \n",
       "14  yPsi  11   0.2     3  CT10   \n",
       "15  yPsi  11   0.4     3  CT10   \n",
       "\n",
       "                                                 data  \n",
       "0   [[3.149072, 0.3032531, 0.001522161], [3.243992...  \n",
       "1   [[3.149072, 0.3734967, 0.001721152], [3.243992...  \n",
       "2   [[3.149072, 0.804131, 0.004629133], [3.243992,...  \n",
       "3   [[3.149072, 64.49366, 1.989759], [3.243992, 1....  \n",
       "4   [[0.1265795, 2.220249, 0.006346562], [0.379738...  \n",
       "5   [[0.1265795, 2.291547, 0.006434], [0.3797386, ...  \n",
       "6   [[0.1265795, 2.594053, 0.006971906], [0.379738...  \n",
       "7   [[0.1265795, 27.26654, 0.7460919], [0.3797386,...  \n",
       "8   [[-1.9, 0.01961791, 0.0002851338], [-1.7, 0.04...  \n",
       "9   [[-1.9, 0.02020591, 0.0002866095], [-1.7, 0.04...  \n",
       "10  [[-1.9, 0.02511905, 0.0003472953], [-1.7, 0.04...  \n",
       "11  [[-1.9, 0.4977183, 0.07576802], [-1.7, 0.94079...  \n",
       "12  [[-1.9, 0.0, 0.0], [-1.7, 0.0, 0.0], [-1.5, 0....  \n",
       "13  [[-1.9, 0.0, 0.0], [-1.7, 0.0, 0.0], [-1.5, 0....  \n",
       "14  [[-1.9, 0.0, 0.0], [-1.7, 0.0, 0.0], [-1.5, 0....  \n",
       "15  [[-1.9, 0.0, 0.0], [-1.7, 0.0, 0.0], [-1.5, 0....  "
      ]
     },
     "execution_count": 35,
     "metadata": {},
     "output_type": "execute_result"
    }
   ],
   "source": [
    "data=load_all_data('/Users/luchinsky/Dropbox/DskD/Work/pp_3/DirectPsi_v5/git_C++/directpsi/build/A/')\n",
    "data"
   ]
  },
  {
   "cell_type": "code",
   "execution_count": 36,
   "metadata": {
    "collapsed": false
   },
   "outputs": [],
   "source": [
    "var='m'\n",
    "delta001=0.01\n",
    "delta02=0.2\n",
    "delta01=0.1\n",
    "delta04=0.4\n",
    "tab001=get_xy_data(data,{'var':var,'delta':delta001})\n",
    "tab01=get_xy_data(data,{'var':var,'delta':delta01})\n",
    "tab02=get_xy_data(data,{'var':var,'delta':delta02})\n",
    "tab04=get_xy_data(data,{'var':var,'delta':delta04})"
   ]
  },
  {
   "cell_type": "code",
   "execution_count": 38,
   "metadata": {
    "collapsed": false
   },
   "outputs": [
    {
     "data": {
      "image/png": "[encoded data removed]",
      "text/plain": [
       "<matplotlib.figure.Figure at 0x11554b828>"
      ]
     },
     "metadata": {},
     "output_type": "display_data"
    }
   ],
   "source": [
    "plt.plot(tab001[:,0],tab001[:,1],'*-',label=delta001)\n",
    "plt.plot(tab01[:,0],tab01[:,1],'*-',label=delta01)\n",
    "plt.plot(tab02[:,0],tab02[:,1],'*-',label=delta02)\n",
    "plt.plot(tab04[:,0],tab04[:,1],'*-',label=delta04)\n",
    "plt.yscale('log')\n",
    "plt.legend()\n",
    "plt.xlabel(var+', GeV'); plt.ylabel(r'$d\\sigma/dm$, $nb/GeV$');\n"
   ]
  },
  {
   "cell_type": "code",
   "execution_count": 39,
   "metadata": {
    "collapsed": false
   },
   "outputs": [
    {
     "data": {
      "image/png": "[encoded data removed]",
      "text/plain": [
       "<matplotlib.figure.Figure at 0x1149cc208>"
      ]
     },
     "metadata": {},
     "output_type": "display_data"
    }
   ],
   "source": [
    "plt.plot(tab001[:,0],tab01[:,1]/tab001[:,1],'*-',label='0.1/0')\n",
    "plt.plot(tab001[:,0],tab02[:,1]/tab001[:,1],'*-',label='0.2/0')\n",
    "plt.plot(tab001[:,0],tab04[:,1]/tab001[:,1],'*-',label='0.4/0')\n",
    "plt.ylim([0,2])\n",
    "plt.xlabel(var+', $GeV$')\n",
    "plt.legend()\n",
    "plt.grid()"
   ]
  },
  {
   "cell_type": "code",
   "execution_count": null,
   "metadata": {
    "collapsed": true
   },
   "outputs": [],
   "source": []
  }
 ],
 "metadata": {
  "kernelspec": {
   "display_name": "Python 3",
   "language": "python",
   "name": "python3"
  },
  "language_info": {
   "codemirror_mode": {
    "name": "ipython",
    "version": 3
   },
   "file_extension": ".py",
   "mimetype": "text/x-python",
   "name": "python",
   "nbconvert_exporter": "python",
   "pygments_lexer": "ipython3",
   "version": "3.5.1"
  }
 },
 "nbformat": 4,
 "nbformat_minor": 0
}
